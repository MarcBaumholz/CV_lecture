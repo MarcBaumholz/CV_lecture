{
 "cells": [
  {
   "cell_type": "code",
   "execution_count": 4,
   "outputs": [],
   "source": [
    "import cv2\n",
    "import numpy as np\n",
    "'''\n",
    "trackbar blur image\n",
    "'''\n",
    "def nothing(x):\n",
    "    pass\n",
    "\n",
    "# Create a black image, a window\n",
    "img = cv2.imread('japanese-cherry.jpg')\n",
    "#img = cv2.cvtColor(img, cv2.COLOR_BGR2RGB)\n",
    "im = np.zeros(img.shape, np.uint8) # do not use original image it overwrites the image\n",
    "mean = 10, 10, 10\n",
    "sigma = 30, 30, 30\n",
    "cv2.randn(im,mean,sigma) # create the random distribution\n",
    "im_noise = cv2.add(img, im)\n",
    "#\n",
    "blur = img\n",
    "BilateralBlur = img\n",
    "#img = np.zeros((300,512,3), np.uint8)\n",
    "cv2.namedWindow('Output')\n",
    "cv2.namedWindow('Meanblur')\n",
    "cv2.namedWindow('Bilaterial')\n",
    "\n",
    "# create trackbars for color change\n",
    "cv2.createTrackbar('Kernel','Meanblur',0,5,nothing)\n",
    "cv2.createTrackbar('diameter','Bilaterial',0,15,nothing)\n",
    "\n",
    "# create switch for ON/OFF functionality\n",
    "switch = '0 : OFF \\n1 : ON'\n",
    "cv2.createTrackbar(switch, 'Output',0,1,nothing)\n",
    "\n",
    "while(1):\n",
    "    cv2.imshow('Output',img)\n",
    "    cv2.imshow('Meanblur',blur)\n",
    "    cv2.imshow('Bilaterial',BilateralBlur)\n",
    "    k = cv2.waitKey(1) & 0xFF\n",
    "    if k == 27:\n",
    "        break\n",
    "\n",
    "    # get current positions of four trackbars\n",
    "    KernelSize = cv2.getTrackbarPos('Kernel','Meanblur')\n",
    "    diameter = cv2.getTrackbarPos('diameter','Bilaterial')\n",
    "\n",
    "    s = cv2.getTrackbarPos(switch,'Output')\n",
    "    # cannot be 0 then crash\n",
    "\n",
    "    if diameter == 0:\n",
    "        diameter = 1\n",
    "    if KernelSize == 0:\n",
    "        KernelSize = 3\n",
    "    elif KernelSize == 1:\n",
    "        KernelSize = 5\n",
    "    elif KernelSize == 2:\n",
    "        KernelSize = 7\n",
    "    elif KernelSize == 3:\n",
    "        KernelSize = 9\n",
    "    elif KernelSize == 4:\n",
    "        KernelSize = 11\n",
    "    if s == 0:\n",
    "        pass\n",
    "    else:\n",
    "        # ---------------------------- Mean Blur -linear---------------------------- #\n",
    "        blur = cv2.blur(im_noise,(KernelSize,KernelSize))\n",
    "        # ---------------------------- Bilateral Blur -Non-linear ---------------------------- #\n",
    "        BilateralBlur = cv2.bilateralFilter(src=im_noise, d=diameter, sigmaColor=100, sigmaSpace=100)\n",
    "\n",
    "\n",
    "\n",
    "cv2.destroyAllWindows()"
   ],
   "metadata": {
    "collapsed": false,
    "pycharm": {
     "name": "#%%\n"
    }
   }
  },
  {
   "cell_type": "code",
   "execution_count": null,
   "outputs": [],
   "source": [],
   "metadata": {
    "collapsed": false,
    "pycharm": {
     "name": "#%%\n"
    }
   }
  }
 ],
 "metadata": {
  "kernelspec": {
   "name": "opencv-env",
   "language": "python",
   "display_name": "opencv-env"
  },
  "language_info": {
   "codemirror_mode": {
    "name": "ipython",
    "version": 2
   },
   "file_extension": ".py",
   "mimetype": "text/x-python",
   "name": "python",
   "nbconvert_exporter": "python",
   "pygments_lexer": "ipython2",
   "version": "2.7.6"
  }
 },
 "nbformat": 4,
 "nbformat_minor": 0
}